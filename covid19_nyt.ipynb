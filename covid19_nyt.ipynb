{
 "cells": [
  {
   "cell_type": "code",
   "execution_count": 17,
   "metadata": {
    "pycharm": {
     "is_executing": false
    }
   },
   "outputs": [
    {
     "name": "stderr",
     "output_type": "stream",
     "text": [
      "Cloning into 'C:\\Users\\andtu\\PycharmProjects\\covid19_nyt\\census'...\n",
      "Cloning into 'C:\\Users\\andtu\\PycharmProjects\\covid19_nyt\\covid-19-data'...\n"
     ]
    }
   ],
   "source": [
    "\n",
    "! cd C:\\Users\\andtu\\PycharmProjects\\covid19_nyt\n",
    "\n",
    "%config IPCompleter.greedy=True\n",
    "\n",
    "%matplotlib inline\n",
    "\n",
    "import pandas as pd\n",
    "import numpy as np\n",
    "\n",
    "import seaborn as sns\n",
    "\n",
    "# from matplotlib import pyplot as plt\n",
    "import matplotlib.pyplot as plt\n",
    "\n",
    "\n",
    "import io\n",
    "import requests\n",
    "\n",
    "import time\n",
    "import datetime\n",
    "\n",
    "\n",
    "! git clone https://github.com/datamade/census C:\\Users\\andtu\\PycharmProjects\\covid19_nyt\\census\n",
    "    \n",
    "! git clone https://github.com/nytimes/covid-19-data C:\\Users\\andtu\\PycharmProjects\\covid19_nyt\\covid-19-data\n",
    "    "
   ]
  },
  {
   "cell_type": "code",
   "execution_count": 30,
   "metadata": {
    "pycharm": {
     "is_executing": false,
     "name": "#%%\n"
    }
   },
   "outputs": [
    {
     "name": "stdout",
     "output_type": "stream",
     "text": [
      "         date       state  fips  cases  deaths\n",
      "0  2020-01-21  Washington    53      1       0\n",
      "1  2020-01-22  Washington    53      1       0\n",
      "2  2020-01-23  Washington    53      1       0\n",
      "3  2020-01-24    Illinois    17      1       0\n",
      "4  2020-01-24  Washington    53      1       0\n",
      "         date     county       state     fips  cases  deaths\n",
      "0  2020-01-21  Snohomish  Washington  53061.0      1       0\n",
      "1  2020-01-22  Snohomish  Washington  53061.0      1       0\n",
      "2  2020-01-23  Snohomish  Washington  53061.0      1       0\n",
      "3  2020-01-24       Cook    Illinois  17031.0      1       0\n",
      "4  2020-01-24  Snohomish  Washington  53061.0      1       0\n",
      "['Alabama', 'North Dakota', 'Pennsylvania', 'Tennessee', 'Hawaii', 'Oklahoma', 'Utah', 'Idaho', 'Virgin Islands', 'New Jersey', 'Kentucky', 'Indiana', 'Missouri', 'Alaska', 'Nebraska', 'Washington', 'Virginia', 'Colorado', 'Arkansas', 'Connecticut', 'Iowa', 'New Mexico', 'Kansas', 'North Carolina', 'Michigan', 'Mississippi', 'Maine', 'Texas', 'Minnesota', 'Northern Mariana Islands', 'Louisiana', 'Oregon', 'Arizona', 'South Carolina', 'New York', 'South Dakota', 'Georgia', 'West Virginia', 'Vermont', 'Ohio', 'Guam', 'Rhode Island', 'Nevada', 'Florida', 'California', 'Montana', 'New Hampshire', 'Puerto Rico', 'Massachusetts', 'Illinois', 'Wisconsin', 'Maryland', 'Delaware', 'Wyoming', 'District of Columbia'] 55\n",
      "['Letcher', 'New Hanover', 'Tallapoosa', 'Tate', 'Chattahoochee', 'Newberry', 'Mecosta', 'Simpson', 'Major', 'St. Croix'] 1557\n",
      "['2020-02-13', '2020-03-03', '2020-02-04', '2020-01-23', '2020-02-28', '2020-02-27', '2020-01-30', '2020-03-08', '2020-01-27', '2020-03-10', '2020-03-01', '2020-03-05', '2020-02-20', '2020-02-25', '2020-03-15', '2020-02-10', '2020-03-20', '2020-02-15', '2020-01-26', '2020-03-02', '2020-04-05', '2020-03-23', '2020-01-28', '2020-03-04', '2020-04-07', '2020-02-17', '2020-01-31', '2020-02-06', '2020-03-24', '2020-02-19', '2020-02-22', '2020-03-19', '2020-01-22', '2020-03-16', '2020-03-12', '2020-03-27', '2020-03-31', '2020-02-03', '2020-03-13', '2020-02-11', '2020-04-04', '2020-01-21', '2020-04-03', '2020-04-08', '2020-02-12', '2020-03-06', '2020-01-24', '2020-02-16', '2020-03-17', '2020-02-29', '2020-02-02', '2020-03-11', '2020-02-05', '2020-01-25', '2020-02-23', '2020-01-29', '2020-02-14', '2020-03-21', '2020-02-18', '2020-04-02', '2020-04-06', '2020-02-01', '2020-02-09', '2020-03-30', '2020-03-18', '2020-02-08', '2020-02-21', '2020-03-14', '2020-04-01', '2020-02-07', '2020-02-24', '2020-03-07', '2020-03-28', '2020-03-29', '2020-02-26', '2020-03-09', '2020-03-26', '2020-03-25', '2020-03-22']\n"
     ]
    }
   ],
   "source": [
    "url_nyt_by_state  = \"https://raw.githubusercontent.com/nytimes/covid-19-data/master/us-states.csv\"\n",
    "url_nyt_by_county = \"https://raw.githubusercontent.com/nytimes/covid-19-data/master/us-counties.csv\"\n",
    "\n",
    "df_nyt_by_state  = pd.read_csv( url_nyt_by_state)\n",
    "df_nyt_by_county = pd.read_csv( url_nyt_by_county)\n",
    "\n",
    "print(df_nyt_by_state.head())\n",
    "\n",
    "print(df_nyt_by_county.head())\n",
    "\n",
    "states   = list( set(df_nyt_by_state['state']))\n",
    "counties = list( set(df_nyt_by_county['county']))\n",
    "\n",
    "dates = list( set(df_nyt_by_state['date']))\n",
    "\n",
    "print(states, len(states))\n",
    "print(counties[:10], len(counties))\n",
    "\n",
    "print(dates)\n",
    "# fips_states   = list( set(df_nyt_by_state.loc['state','fips']))\n",
    "# fips_counties = list( set(df_nyt_by_county.loc['county', 'fips']))"
   ]
  },
  {
   "cell_type": "code",
   "execution_count": 25,
   "metadata": {
    "collapsed": false,
    "jupyter": {
     "outputs_hidden": false
    },
    "pycharm": {
     "is_executing": false,
     "name": "#%%\n"
    }
   },
   "outputs": [
    {
     "name": "stdout",
     "output_type": "stream",
     "text": [
      "['2020-02-13', '2020-03-03', '2020-02-04', '2020-01-23', '2020-02-28', '2020-02-27', '2020-01-30', '2020-03-08', '2020-01-27', '2020-03-10', '2020-03-01', '2020-03-05', '2020-02-20', '2020-02-25', '2020-03-15', '2020-02-10', '2020-03-20', '2020-02-15', '2020-01-26', '2020-03-02', '2020-04-05', '2020-03-23', '2020-01-28', '2020-03-04', '2020-04-07', '2020-02-17', '2020-01-31', '2020-02-06', '2020-03-24', '2020-02-19', '2020-02-22', '2020-03-19', '2020-01-22', '2020-03-16', '2020-03-12', '2020-03-27', '2020-03-31', '2020-02-03', '2020-03-13', '2020-02-11', '2020-04-04', '2020-01-21', '2020-04-03', '2020-04-08', '2020-02-12', '2020-03-06', '2020-01-24', '2020-02-16', '2020-03-17', '2020-02-29', '2020-02-02', '2020-03-11', '2020-02-05', '2020-01-25', '2020-02-23', '2020-01-29', '2020-02-14', '2020-03-21', '2020-02-18', '2020-04-02', '2020-04-06', '2020-02-01', '2020-02-09', '2020-03-30', '2020-03-18', '2020-02-08', '2020-02-21', '2020-03-14', '2020-04-01', '2020-02-07', '2020-02-24', '2020-03-07', '2020-03-28', '2020-03-29', '2020-02-26', '2020-03-09', '2020-03-26', '2020-03-25', '2020-03-22']\n"
     ]
    }
   ],
   "source": [
    "#list(df_nyt_by_state.date)\n",
    "dates = list( set(df_nyt_by_state['date']))\n",
    "print(dates)"
   ]
  },
  {
   "cell_type": "code",
   "execution_count": 43,
   "metadata": {
    "collapsed": false,
    "jupyter": {
     "outputs_hidden": false
    },
    "pycharm": {
     "name": "#%%\n"
    }
   },
   "outputs": [
    {
     "data": {
      "text/html": [
       "<div>\n",
       "<style scoped>\n",
       "    .dataframe tbody tr th:only-of-type {\n",
       "        vertical-align: middle;\n",
       "    }\n",
       "\n",
       "    .dataframe tbody tr th {\n",
       "        vertical-align: top;\n",
       "    }\n",
       "\n",
       "    .dataframe thead th {\n",
       "        text-align: right;\n",
       "    }\n",
       "</style>\n",
       "<table border=\"1\" class=\"dataframe\">\n",
       "  <thead>\n",
       "    <tr style=\"text-align: right;\">\n",
       "      <th></th>\n",
       "      <th>date</th>\n",
       "      <th>state</th>\n",
       "      <th>fips</th>\n",
       "      <th>cases</th>\n",
       "      <th>deaths</th>\n",
       "    </tr>\n",
       "  </thead>\n",
       "  <tbody>\n",
       "    <tr>\n",
       "      <th>586</th>\n",
       "      <td>2020-03-13</td>\n",
       "      <td>Alabama</td>\n",
       "      <td>1</td>\n",
       "      <td>6</td>\n",
       "      <td>0</td>\n",
       "    </tr>\n",
       "    <tr>\n",
       "      <th>637</th>\n",
       "      <td>2020-03-14</td>\n",
       "      <td>Alabama</td>\n",
       "      <td>1</td>\n",
       "      <td>12</td>\n",
       "      <td>0</td>\n",
       "    </tr>\n",
       "    <tr>\n",
       "      <th>689</th>\n",
       "      <td>2020-03-15</td>\n",
       "      <td>Alabama</td>\n",
       "      <td>1</td>\n",
       "      <td>23</td>\n",
       "      <td>0</td>\n",
       "    </tr>\n",
       "    <tr>\n",
       "      <th>742</th>\n",
       "      <td>2020-03-16</td>\n",
       "      <td>Alabama</td>\n",
       "      <td>1</td>\n",
       "      <td>29</td>\n",
       "      <td>0</td>\n",
       "    </tr>\n",
       "    <tr>\n",
       "      <th>795</th>\n",
       "      <td>2020-03-17</td>\n",
       "      <td>Alabama</td>\n",
       "      <td>1</td>\n",
       "      <td>39</td>\n",
       "      <td>0</td>\n",
       "    </tr>\n",
       "  </tbody>\n",
       "</table>\n",
       "</div>"
      ],
      "text/plain": [
       "           date    state  fips  cases  deaths\n",
       "586  2020-03-13  Alabama     1      6       0\n",
       "637  2020-03-14  Alabama     1     12       0\n",
       "689  2020-03-15  Alabama     1     23       0\n",
       "742  2020-03-16  Alabama     1     29       0\n",
       "795  2020-03-17  Alabama     1     39       0"
      ]
     },
     "execution_count": 43,
     "metadata": {},
     "output_type": "execute_result"
    }
   ],
   "source": [
    "#\n",
    "df_nyt_by_state[df_nyt_by_state['state']=='Alabama'].head()"
   ]
  },
  {
   "cell_type": "code",
   "execution_count": 45,
   "metadata": {},
   "outputs": [
    {
     "data": {
      "text/html": [
       "<div>\n",
       "<style scoped>\n",
       "    .dataframe tbody tr th:only-of-type {\n",
       "        vertical-align: middle;\n",
       "    }\n",
       "\n",
       "    .dataframe tbody tr th {\n",
       "        vertical-align: top;\n",
       "    }\n",
       "\n",
       "    .dataframe thead th {\n",
       "        text-align: right;\n",
       "    }\n",
       "</style>\n",
       "<table border=\"1\" class=\"dataframe\">\n",
       "  <thead>\n",
       "    <tr style=\"text-align: right;\">\n",
       "      <th></th>\n",
       "      <th>date</th>\n",
       "      <th>county</th>\n",
       "      <th>state</th>\n",
       "      <th>fips</th>\n",
       "      <th>cases</th>\n",
       "      <th>deaths</th>\n",
       "    </tr>\n",
       "  </thead>\n",
       "  <tbody>\n",
       "    <tr>\n",
       "      <th>3</th>\n",
       "      <td>2020-01-24</td>\n",
       "      <td>Cook</td>\n",
       "      <td>Illinois</td>\n",
       "      <td>17031.0</td>\n",
       "      <td>1</td>\n",
       "      <td>0</td>\n",
       "    </tr>\n",
       "    <tr>\n",
       "      <th>6</th>\n",
       "      <td>2020-01-25</td>\n",
       "      <td>Cook</td>\n",
       "      <td>Illinois</td>\n",
       "      <td>17031.0</td>\n",
       "      <td>1</td>\n",
       "      <td>0</td>\n",
       "    </tr>\n",
       "    <tr>\n",
       "      <th>11</th>\n",
       "      <td>2020-01-26</td>\n",
       "      <td>Cook</td>\n",
       "      <td>Illinois</td>\n",
       "      <td>17031.0</td>\n",
       "      <td>1</td>\n",
       "      <td>0</td>\n",
       "    </tr>\n",
       "    <tr>\n",
       "      <th>16</th>\n",
       "      <td>2020-01-27</td>\n",
       "      <td>Cook</td>\n",
       "      <td>Illinois</td>\n",
       "      <td>17031.0</td>\n",
       "      <td>1</td>\n",
       "      <td>0</td>\n",
       "    </tr>\n",
       "    <tr>\n",
       "      <th>21</th>\n",
       "      <td>2020-01-28</td>\n",
       "      <td>Cook</td>\n",
       "      <td>Illinois</td>\n",
       "      <td>17031.0</td>\n",
       "      <td>1</td>\n",
       "      <td>0</td>\n",
       "    </tr>\n",
       "  </tbody>\n",
       "</table>\n",
       "</div>"
      ],
      "text/plain": [
       "          date county     state     fips  cases  deaths\n",
       "3   2020-01-24   Cook  Illinois  17031.0      1       0\n",
       "6   2020-01-25   Cook  Illinois  17031.0      1       0\n",
       "11  2020-01-26   Cook  Illinois  17031.0      1       0\n",
       "16  2020-01-27   Cook  Illinois  17031.0      1       0\n",
       "21  2020-01-28   Cook  Illinois  17031.0      1       0"
      ]
     },
     "execution_count": 45,
     "metadata": {},
     "output_type": "execute_result"
    }
   ],
   "source": [
    "df_nyt_by_county[df_nyt_by_county['county']=='Cook'].head()"
   ]
  },
  {
   "cell_type": "code",
   "execution_count": 42,
   "metadata": {},
   "outputs": [
    {
     "name": "stdout",
     "output_type": "stream",
     "text": [
      "{'Alabama': 1, 'North Dakota': 38, 'Pennsylvania': 42, 'Tennessee': 47, 'Hawaii': 15, 'Oklahoma': 40, 'Utah': 49, 'Idaho': 16, 'Virgin Islands': 78, 'New Jersey': 34, 'Kentucky': 21, 'Indiana': 18, 'Missouri': 29, 'Alaska': 2, 'Nebraska': 31, 'Washington': 53, 'Virginia': 51, 'Colorado': 8, 'Arkansas': 5, 'Connecticut': 9, 'Iowa': 19, 'New Mexico': 35, 'Kansas': 20, 'North Carolina': 37, 'Michigan': 26, 'Mississippi': 28, 'Maine': 23, 'Texas': 48, 'Minnesota': 27, 'Northern Mariana Islands': 69, 'Louisiana': 22, 'Oregon': 41, 'Arizona': 4, 'South Carolina': 45, 'New York': 36, 'South Dakota': 46, 'Georgia': 13, 'West Virginia': 54, 'Vermont': 50, 'Ohio': 39, 'Guam': 66, 'Rhode Island': 44, 'Nevada': 32, 'Florida': 12, 'California': 6, 'Montana': 30, 'New Hampshire': 33, 'Puerto Rico': 72, 'Massachusetts': 25, 'Illinois': 17, 'Wisconsin': 55, 'Maryland': 24, 'Delaware': 10, 'Wyoming': 56, 'District of Columbia': 11}\n"
     ]
    }
   ],
   "source": [
    "fips_codes_state  = {state : df_nyt_by_state[df_nyt_by_state['state']==state].fips.iloc[0] for state in states}\n",
    "fips_codes_county = {county : df_nyt_by_county[df_nyt_by_county['county']==county].fips.iloc[0] for county in counties}\n",
    "print(fips_codes_state)\n",
    "#df_nyt_by_state[df_nyt_by_state['state']=='Alabama'].fips.iloc[0]"
   ]
  },
  {
   "cell_type": "code",
   "execution_count": 70,
   "metadata": {},
   "outputs": [
    {
     "data": {
      "text/plain": [
       "array(['2020-03-13', '2020-03-14', '2020-03-15', '2020-03-16',\n",
       "       '2020-03-17', '2020-03-18', '2020-03-19', '2020-03-20',\n",
       "       '2020-03-21', '2020-03-22', '2020-03-23', '2020-03-24',\n",
       "       '2020-03-25', '2020-03-26', '2020-03-27', '2020-03-28',\n",
       "       '2020-03-29', '2020-03-30', '2020-03-31', '2020-04-01',\n",
       "       '2020-04-02', '2020-04-03', '2020-04-04', '2020-04-05',\n",
       "       '2020-04-06', '2020-04-07', '2020-04-08'], dtype=object)"
      ]
     },
     "execution_count": 70,
     "metadata": {},
     "output_type": "execute_result"
    }
   ],
   "source": [
    "np.array(df[df['state']==state].date)"
   ]
  },
  {
   "cell_type": "code",
   "execution_count": 89,
   "metadata": {},
   "outputs": [
    {
     "data": {
      "text/plain": [
       "{'fips': 1,\n",
       " 'counties': ['Colbert',\n",
       "  'Sumter',\n",
       "  'Clarke',\n",
       "  'Chilton',\n",
       "  'St. Clair',\n",
       "  'Conecuh',\n",
       "  'Barbour',\n",
       "  'Marengo',\n",
       "  'Houston',\n",
       "  'Hale',\n",
       "  'Russell',\n",
       "  'Lauderdale',\n",
       "  'Lowndes',\n",
       "  'Tallapoosa',\n",
       "  'Franklin',\n",
       "  'Macon',\n",
       "  'DeKalb',\n",
       "  'Chambers',\n",
       "  'Autauga',\n",
       "  'Covington',\n",
       "  'Madison',\n",
       "  'Cleburne',\n",
       "  'Pickens',\n",
       "  'Winston',\n",
       "  'Dale',\n",
       "  'Pike',\n",
       "  'Washington',\n",
       "  'Montgomery',\n",
       "  'Elmore',\n",
       "  'Bullock',\n",
       "  'Calhoun',\n",
       "  'Randolph',\n",
       "  'Escambia',\n",
       "  'Baldwin',\n",
       "  'Walker',\n",
       "  'Cherokee',\n",
       "  'Choctaw',\n",
       "  'Crenshaw',\n",
       "  'Coffee',\n",
       "  'Butler',\n",
       "  'Blount',\n",
       "  'Jackson',\n",
       "  'Fayette',\n",
       "  'Dallas',\n",
       "  'Lawrence',\n",
       "  'Henry',\n",
       "  'Perry',\n",
       "  'Mobile',\n",
       "  'Tuscaloosa',\n",
       "  'Coosa',\n",
       "  'Shelby',\n",
       "  'Wilcox',\n",
       "  'Greene',\n",
       "  'Bibb',\n",
       "  'Geneva',\n",
       "  'Lamar',\n",
       "  'Marion',\n",
       "  'Marshall',\n",
       "  'Jefferson',\n",
       "  'Lee',\n",
       "  'Morgan',\n",
       "  'Monroe',\n",
       "  'Etowah',\n",
       "  'Clay',\n",
       "  'Talladega',\n",
       "  'Cullman',\n",
       "  'Limestone'],\n",
       " 'dates': array(['2020-03-13', '2020-03-14', '2020-03-15', '2020-03-16',\n",
       "        '2020-03-17', '2020-03-18', '2020-03-19', '2020-03-20',\n",
       "        '2020-03-21', '2020-03-22', '2020-03-23', '2020-03-24',\n",
       "        '2020-03-25', '2020-03-26', '2020-03-27', '2020-03-28',\n",
       "        '2020-03-29', '2020-03-30', '2020-03-31', '2020-04-01',\n",
       "        '2020-04-02', '2020-04-03', '2020-04-04', '2020-04-05',\n",
       "        '2020-04-06', '2020-04-07', '2020-04-08'], dtype=object),\n",
       " 'cases_cum': array([   6,   12,   23,   29,   39,   51,   78,  106,  131,  157,  196,\n",
       "         242,  386,  538,  639,  720,  830,  947,  999, 1106, 1270, 1535,\n",
       "        1633, 1841, 2006, 2197, 2499], dtype=int64),\n",
       " 'deaths': array([ 0,  0,  0,  0,  0,  0,  0,  0,  0,  0,  0,  0,  1,  3,  4,  4,  5,\n",
       "        11, 13, 28, 32, 38, 44, 45, 53, 64, 67], dtype=int64),\n",
       " 'cases': array([  6,   6,  11,   6,  10,  12,  27,  28,  25,  26,  39,  46, 144,\n",
       "        152, 101,  81, 110, 117,  52, 107, 164, 265,  98, 208, 165, 191,\n",
       "        302], dtype=int64),\n",
       " 'cases_final': 2499,\n",
       " 'deaths_final': 67}"
      ]
     },
     "execution_count": 89,
     "metadata": {},
     "output_type": "execute_result"
    }
   ],
   "source": [
    "df = df_nyt_by_state.copy()\n",
    "data_state = dict({})\n",
    "for state in states:\n",
    "    data_state[state] = {\n",
    "        'fips' : df[df['state']==state].fips.iloc[0],\n",
    "        'counties' : list(set(df_nyt_by_county[df_nyt_by_county['state'] == state].county )), \n",
    "        'dates' : np.array(df[df['state']==state].date),\n",
    "        'cases_cum' : np.array(df[df['state']==state].cases),\n",
    "        'deaths' : np.array(df[df['state']==state].deaths),\n",
    "        'cases' : np.diff( np.array(df[df['state']==state].cases), prepend=0 ),\n",
    "        'cases_final' : df[df['state']==state].cases.iloc[-1],\n",
    "        'deaths_final' : df[df['state']==state].deaths.iloc[-1]\n",
    "    }\n",
    "data_state['Alabama']"
   ]
  },
  {
   "cell_type": "code",
   "execution_count": 90,
   "metadata": {},
   "outputs": [
    {
     "data": {
      "text/plain": [
       "{'fips': 53,\n",
       " 'counties': ['Thurston',\n",
       "  'Douglas',\n",
       "  'Clark',\n",
       "  'Lewis',\n",
       "  'King',\n",
       "  'Spokane',\n",
       "  'Clallam',\n",
       "  'Kittitas',\n",
       "  'Franklin',\n",
       "  'Unknown',\n",
       "  'Kitsap',\n",
       "  'Snohomish',\n",
       "  'Grays Harbor',\n",
       "  'Mason',\n",
       "  'San Juan',\n",
       "  'Stevens',\n",
       "  'Klickitat',\n",
       "  'Island',\n",
       "  'Cowlitz',\n",
       "  'Whitman',\n",
       "  'Asotin',\n",
       "  'Yakima',\n",
       "  'Benton',\n",
       "  'Ferry',\n",
       "  'Pierce',\n",
       "  'Adams',\n",
       "  'Grant',\n",
       "  'Skagit',\n",
       "  'Lincoln',\n",
       "  'Skamania',\n",
       "  'Columbia',\n",
       "  'Pend Oreille',\n",
       "  'Walla Walla',\n",
       "  'Jefferson',\n",
       "  'Whatcom',\n",
       "  'Chelan',\n",
       "  'Wahkiakum',\n",
       "  'Okanogan'],\n",
       " 'dates': array(['2020-01-21', '2020-01-22', '2020-01-23', '2020-01-24',\n",
       "        '2020-01-25', '2020-01-26', '2020-01-27', '2020-01-28',\n",
       "        '2020-01-29', '2020-01-30', '2020-01-31', '2020-02-01',\n",
       "        '2020-02-02', '2020-02-03', '2020-02-04', '2020-02-05',\n",
       "        '2020-02-06', '2020-02-07', '2020-02-08', '2020-02-09',\n",
       "        '2020-02-10', '2020-02-11', '2020-02-12', '2020-02-13',\n",
       "        '2020-02-14', '2020-02-15', '2020-02-16', '2020-02-17',\n",
       "        '2020-02-18', '2020-02-19', '2020-02-20', '2020-02-21',\n",
       "        '2020-02-22', '2020-02-23', '2020-02-24', '2020-02-25',\n",
       "        '2020-02-26', '2020-02-27', '2020-02-28', '2020-02-29',\n",
       "        '2020-03-01', '2020-03-02', '2020-03-03', '2020-03-04',\n",
       "        '2020-03-05', '2020-03-06', '2020-03-07', '2020-03-08',\n",
       "        '2020-03-09', '2020-03-10', '2020-03-11', '2020-03-12',\n",
       "        '2020-03-13', '2020-03-14', '2020-03-15', '2020-03-16',\n",
       "        '2020-03-17', '2020-03-18', '2020-03-19', '2020-03-20',\n",
       "        '2020-03-21', '2020-03-22', '2020-03-23', '2020-03-24',\n",
       "        '2020-03-25', '2020-03-26', '2020-03-27', '2020-03-28',\n",
       "        '2020-03-29', '2020-03-30', '2020-03-31', '2020-04-01',\n",
       "        '2020-04-02', '2020-04-03', '2020-04-04', '2020-04-05',\n",
       "        '2020-04-06', '2020-04-07', '2020-04-08'], dtype=object),\n",
       " 'cases_cum': array([   1,    1,    1,    1,    1,    1,    1,    1,    1,    1,    1,\n",
       "           1,    1,    1,    1,    1,    1,    1,    1,    1,    1,    1,\n",
       "           1,    1,    1,    1,    1,    1,    1,    1,    1,    1,    1,\n",
       "           1,    5,    5,    5,    5,    7,   10,   17,   23,   32,   47,\n",
       "          75,   86,  110,  141,  179,  279,  338,  419,  511,  609,  675,\n",
       "         794,  908, 1026, 1228, 1404, 1655, 1844, 2101, 2469, 2585, 3208,\n",
       "        3770, 4311, 4896, 5179, 5292, 5588, 6585, 6966, 7498, 7984, 8384,\n",
       "        8682, 9097], dtype=int64),\n",
       " 'deaths': array([  0,   0,   0,   0,   0,   0,   0,   0,   0,   0,   0,   0,   0,\n",
       "          0,   0,   0,   0,   0,   0,   0,   0,   0,   0,   0,   0,   0,\n",
       "          0,   0,   0,   0,   0,   0,   0,   0,   0,   0,   0,   0,   0,\n",
       "          1,   3,   6,  10,  11,  11,  12,  16,  19,  22,  24,  29,  32,\n",
       "         37,  40,  42,  48,  54,  68,  75,  83,  95,  97, 110, 123, 130,\n",
       "        151, 177, 191, 207, 221, 226, 249, 272, 293, 318, 344, 383, 409,\n",
       "        454], dtype=int64),\n",
       " 'cases': array([  1,   0,   0,   0,   0,   0,   0,   0,   0,   0,   0,   0,   0,\n",
       "          0,   0,   0,   0,   0,   0,   0,   0,   0,   0,   0,   0,   0,\n",
       "          0,   0,   0,   0,   0,   0,   0,   0,   4,   0,   0,   0,   2,\n",
       "          3,   7,   6,   9,  15,  28,  11,  24,  31,  38, 100,  59,  81,\n",
       "         92,  98,  66, 119, 114, 118, 202, 176, 251, 189, 257, 368, 116,\n",
       "        623, 562, 541, 585, 283, 113, 296, 997, 381, 532, 486, 400, 298,\n",
       "        415], dtype=int64),\n",
       " 'cases_final': 9097,\n",
       " 'deaths_final': 454}"
      ]
     },
     "execution_count": 90,
     "metadata": {},
     "output_type": "execute_result"
    }
   ],
   "source": [
    "data_state['Washington']\n"
   ]
  },
  {
   "cell_type": "code",
   "execution_count": 92,
   "metadata": {},
   "outputs": [],
   "source": [
    "df = df_nyt_by_county.copy()\n",
    "data_state = dict({})\n",
    "for county in counties:\n",
    "    data_state[county] = {\n",
    "        'fips' : df[df['county']==county].fips.iloc[0],\n",
    "        'state' : df[df['county']==county].state.iloc[0],\n",
    "        'dates' : np.array(df[df['county']==county].date),\n",
    "        'cases_cum' : np.array(df[df['county']==county].cases),\n",
    "        'deaths' : np.array(df[df['county']==county].deaths),\n",
    "        'cases' : np.diff( np.array(df[df['county']==county].cases), prepend=0 ),\n",
    "        'cases_final' : df[df['county']==county].cases.iloc[-1],\n",
    "        'deaths_final' : df[df['county']==county].deaths.iloc[-1]\n",
    "    }"
   ]
  },
  {
   "cell_type": "code",
   "execution_count": 93,
   "metadata": {},
   "outputs": [
    {
     "data": {
      "text/plain": [
       "{'fips': 17031.0,\n",
       " 'state': 'Illinois',\n",
       " 'dates': array(['2020-01-24', '2020-01-25', '2020-01-26', '2020-01-27',\n",
       "        '2020-01-28', '2020-01-29', '2020-01-30', '2020-01-31',\n",
       "        '2020-02-01', '2020-02-02', '2020-02-03', '2020-02-04',\n",
       "        '2020-02-05', '2020-02-06', '2020-02-07', '2020-02-08',\n",
       "        '2020-02-09', '2020-02-10', '2020-02-11', '2020-02-12',\n",
       "        '2020-02-13', '2020-02-14', '2020-02-15', '2020-02-16',\n",
       "        '2020-02-17', '2020-02-18', '2020-02-19', '2020-02-20',\n",
       "        '2020-02-21', '2020-02-22', '2020-02-23', '2020-02-24',\n",
       "        '2020-02-25', '2020-02-26', '2020-02-27', '2020-02-28',\n",
       "        '2020-02-29', '2020-03-01', '2020-03-02', '2020-03-03',\n",
       "        '2020-03-04', '2020-03-05', '2020-03-06', '2020-03-07',\n",
       "        '2020-03-08', '2020-03-09', '2020-03-10', '2020-03-11',\n",
       "        '2020-03-12', '2020-03-13', '2020-03-14', '2020-03-15',\n",
       "        '2020-03-16', '2020-03-17', '2020-03-18', '2020-03-19',\n",
       "        '2020-03-20', '2020-03-21', '2020-03-22', '2020-03-23',\n",
       "        '2020-03-24', '2020-03-25', '2020-03-26', '2020-03-27',\n",
       "        '2020-03-28', '2020-03-29', '2020-03-30', '2020-03-30',\n",
       "        '2020-03-31', '2020-03-31', '2020-04-01', '2020-04-01',\n",
       "        '2020-04-02', '2020-04-02', '2020-04-03', '2020-04-03',\n",
       "        '2020-04-04', '2020-04-04', '2020-04-05', '2020-04-05',\n",
       "        '2020-04-06', '2020-04-06', '2020-04-07', '2020-04-07',\n",
       "        '2020-04-08', '2020-04-08'], dtype=object),\n",
       " 'cases_cum': array([    1,     1,     1,     1,     1,     1,     2,     2,     2,\n",
       "            2,     2,     2,     2,     2,     2,     2,     2,     2,\n",
       "            2,     2,     2,     2,     2,     2,     2,     2,     2,\n",
       "            2,     2,     2,     2,     2,     2,     2,     2,     2,\n",
       "            3,     3,     4,     4,     4,     5,     6,     6,     7,\n",
       "           11,    17,    22,    27,    40,    51,    76,    76,   107,\n",
       "          179,   279,   412,   548,   805,   922,  1194,  1418,  1904,\n",
       "         2239,  2613,  3445,     1,  3727,     1,  4496,     1,  5152,\n",
       "            1,  5575,     1,  6473,     1,  7439,     1,  8043,     2,\n",
       "         8728,     4,  9509,     4, 10520], dtype=int64),\n",
       " 'deaths': array([  0,   0,   0,   0,   0,   0,   0,   0,   0,   0,   0,   0,   0,\n",
       "          0,   0,   0,   0,   0,   0,   0,   0,   0,   0,   0,   0,   0,\n",
       "          0,   0,   0,   0,   0,   0,   0,   0,   0,   0,   0,   0,   0,\n",
       "          0,   0,   0,   0,   0,   0,   0,   0,   0,   0,   0,   0,   0,\n",
       "          0,   1,   1,   2,   3,   4,   6,   9,  12,  13,  18,  20,  28,\n",
       "         40,   0,  44,   0,  61,   0,  95,   0, 107,   0, 141,   0, 167,\n",
       "          0, 186,   0, 209,   0, 249,   0, 312], dtype=int64),\n",
       " 'cases': array([    1,     0,     0,     0,     0,     0,     1,     0,     0,\n",
       "            0,     0,     0,     0,     0,     0,     0,     0,     0,\n",
       "            0,     0,     0,     0,     0,     0,     0,     0,     0,\n",
       "            0,     0,     0,     0,     0,     0,     0,     0,     0,\n",
       "            1,     0,     1,     0,     0,     1,     1,     0,     1,\n",
       "            4,     6,     5,     5,    13,    11,    25,     0,    31,\n",
       "           72,   100,   133,   136,   257,   117,   272,   224,   486,\n",
       "          335,   374,   832, -3444,  3726, -3726,  4495, -4495,  5151,\n",
       "        -5151,  5574, -5574,  6472, -6472,  7438, -7438,  8042, -8041,\n",
       "         8726, -8724,  9505, -9505, 10516], dtype=int64),\n",
       " 'cases_final': 10520,\n",
       " 'deaths_final': 312}"
      ]
     },
     "execution_count": 93,
     "metadata": {},
     "output_type": "execute_result"
    }
   ],
   "source": [
    "data_state['Cook']"
   ]
  },
  {
   "cell_type": "code",
   "execution_count": 83,
   "metadata": {},
   "outputs": [
    {
     "data": {
      "text/plain": [
       "array([   5,   -5,    4,    2,   15,    1,   -3,    1,   13,    7,   98,\n",
       "          8,  -51,  -20,   29,    7,  -65,   55,   57,  101, -167,  110,\n",
       "        -43,   26,  111], dtype=int64)"
      ]
     },
     "execution_count": 83,
     "metadata": {},
     "output_type": "execute_result"
    }
   ],
   "source": []
  },
  {
   "cell_type": "code",
   "execution_count": null,
   "metadata": {},
   "outputs": [],
   "source": []
  }
 ],
 "metadata": {
  "kernelspec": {
   "display_name": "PyCharm (untitled)",
   "language": "python",
   "name": "pycharm-9f347b96"
  },
  "language_info": {
   "codemirror_mode": {
    "name": "ipython",
    "version": 3
   },
   "file_extension": ".py",
   "mimetype": "text/x-python",
   "name": "python",
   "nbconvert_exporter": "python",
   "pygments_lexer": "ipython3",
   "version": "3.7.3"
  },
  "pycharm": {
   "stem_cell": {
    "cell_type": "raw",
    "metadata": {
     "collapsed": false
    },
    "source": []
   }
  },
  "varInspector": {
   "cols": {
    "lenName": 16,
    "lenType": 16,
    "lenVar": 40
   },
   "kernels_config": {
    "python": {
     "delete_cmd_postfix": "",
     "delete_cmd_prefix": "del ",
     "library": "var_list.py",
     "varRefreshCmd": "print(var_dic_list())"
    },
    "r": {
     "delete_cmd_postfix": ") ",
     "delete_cmd_prefix": "rm(",
     "library": "var_list.r",
     "varRefreshCmd": "cat(var_dic_list()) "
    }
   },
   "types_to_exclude": [
    "module",
    "function",
    "builtin_function_or_method",
    "instance",
    "_Feature"
   ],
   "window_display": false
  }
 },
 "nbformat": 4,
 "nbformat_minor": 4
}
